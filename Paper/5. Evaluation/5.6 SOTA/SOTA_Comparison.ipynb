{
 "cells": [
  {
   "cell_type": "markdown",
   "id": "ab291f49",
   "metadata": {},
   "source": [
    "# Comparison with SOTA"
   ]
  },
  {
   "cell_type": "markdown",
   "id": "5c9b3d48",
   "metadata": {},
   "source": [
    "# Grill et al.; Detecting DGA malware using NetFlow; "
   ]
  },
  {
   "cell_type": "markdown",
   "id": "36cb9a4d",
   "metadata": {},
   "source": [
    "from IPython.display import Image\n",
    "print(\"For each paper, we show the implementation (snippiet of the paper) and subsequently, implement it\")\n",
    "<center><img src=\"Detecting DGA malware using NetFlow.pdf - 1.png\"/></center></br>"
   ]
  },
  {
   "cell_type": "markdown",
   "id": "eec440d3",
   "metadata": {},
   "source": [
    "# Build the dataset in intervals of 5 minutes (based on the paper)"
   ]
  },
  {
   "cell_type": "code",
   "execution_count": 92,
   "id": "329be968",
   "metadata": {
    "scrolled": true
   },
   "outputs": [],
   "source": [
    "import csv\n",
    "import json\n",
    "import ast\n",
    "import statistics\n",
    "import matplotlib.pyplot as plt\n",
    "import pandas as pd\n",
    "import math\n",
    "\n",
    "\n",
    "def load_events_dataset(csvfile_name: str, traffic_type: str, duration: int) -> (list, list):\n",
    "    all_nxd_iarrivals = {}\n",
    "    dns_ip_ratio = []\n",
    "    with open(csvfile_name, newline='') as csvfile:\n",
    "        reader = csv.reader(csvfile, delimiter=',')\n",
    "        row_indx = 0\n",
    "        for row in reader:\n",
    "            row_indx += 1\n",
    "\n",
    "            if row[2] == '8.8.8.8':\n",
    "                continue\n",
    "\n",
    "            if traffic_type == \"CTU\": # benign\n",
    "                start_col = 3\n",
    "                family = 'benign'\n",
    "                if len(row) <= 3:\n",
    "                    continue\n",
    "            elif traffic_type == \"DGA\":\n",
    "                start_col = 4\n",
    "                family = row[0]\n",
    "                \n",
    "                if len(row) <= 4:\n",
    "                    continue    \n",
    "\n",
    "            curr_nxd_iarrivals = []\n",
    "            \n",
    "            first_flag = 0\n",
    "            first_tmstamp = -1\n",
    "            collect = 1\n",
    "            first_uniq_ips = 0\n",
    "            for col_indx in range(start_col, len(row)):\n",
    "                curr_col = row[col_indx]\n",
    "                features = \"\\\"\" + curr_col + \"\\\"\"\n",
    "                features = features.replace(\"Decimal('\", \"\")\n",
    "                features = features.replace(\"')\", \"\")\n",
    "                try:\n",
    "                    features = json.loads(features)\n",
    "                    features = ast.literal_eval(features)\n",
    "                    tmstamp = features['tmstamp']\n",
    "                    if tmstamp == 0:\n",
    "                        collect = 0\n",
    "                        break\n",
    "                    if first_flag == 0:\n",
    "                        first_tmstamp = tmstamp\n",
    "                        first_uniq_ips = features['uniq_pkt_cntctd_all']\n",
    "                        first_flag = 1\n",
    "                        \n",
    "                    if tmstamp - first_tmstamp > duration*60:\n",
    "                        break\n",
    "\n",
    "                except Exception as e:\n",
    "                    print(e)\n",
    "                    print(\"\\t\\t\", row_indx, col_indx, csvfile_name )\n",
    "            \n",
    "            \n",
    "            if collect == 1:\n",
    "                uniq_ips = features['uniq_pkt_cntctd_all'] - first_uniq_ips\n",
    "                if traffic_type == \"CTU\":\n",
    "                    dns_reqs = col_indx - 2\n",
    "                else:\n",
    "                    dns_reqs = col_indx - 3\n",
    "                dns_ip_ratio.append([dns_reqs, uniq_ips])\n",
    "                # print(row_indx, dns_reqs, uniq_ips)\n",
    "\n",
    "    return dns_ip_ratio\n",
    "\n",
    "\n",
    "# '''\n",
    "\n",
    "#     print(dns_ip_ratio)\n",
    "#     all_nxd_iarrivals = all_nxd_iarrivals['benign']\n",
    "#     x = \"       CTU-\" + str(i)\n",
    "#     median = statistics.median(all_nxd_iarrivals)\n",
    "#     mean = statistics.mean(all_nxd_iarrivals)\n",
    "#     data_ctu[x] = {\"Mean\": mean, \"Median\": median}\n",
    "    \n",
    "#     print(ctu_rel_path)\n",
    "#     print(\"\\t\", statistics.median(all_nxd_iarrivals), statistics.mean(all_nxd_iarrivals))\n",
    "# '''"
   ]
  },
  {
   "cell_type": "markdown",
   "id": "08dff9f0",
   "metadata": {},
   "source": [
    "# Load datasets CTU (normal) and DGA"
   ]
  },
  {
   "cell_type": "code",
   "execution_count": 86,
   "id": "6f0031f6",
   "metadata": {},
   "outputs": [
    {
     "name": "stdout",
     "output_type": "stream",
     "text": [
      "T =  1\n",
      "T =  1.5\n",
      "T =  2\n",
      "T =  2.5\n",
      "T =  3\n",
      "T =  3.5\n",
      "T =  4\n",
      "T =  4.5\n",
      "T =  5\n"
     ]
    }
   ],
   "source": [
    "X = [] \n",
    "y1 = []\n",
    "y2 = []\n",
    "\n",
    "durations = [1, 1.5, 2, 2.5, 3, 3.5, 4, 4.5, 5]\n",
    "ctu_all_dns_ip_durations = []\n",
    "dga_all_dns_ip_durations = []\n",
    "\n",
    "for duration in durations:\n",
    "    print(\"T = \", duration)\n",
    "    ctu_all_dns_ip_ratio = []\n",
    "    for i in range(42, 55): # 42, 55 !!! \n",
    "        ctu_rel_path = \"Dataset\\\\dataset_DNSreqs\\\\CTU_DNSreqs\\\\data_no_infection_dns-\" + str(i) + \"_DNSreq_ft.csv\"\n",
    "        dns_ip_ratio = load_events_dataset(ctu_rel_path, traffic_type=\"CTU\", duration=duration)\n",
    "        ctu_all_dns_ip_durations.append(dns_ip_ratio)\n",
    "        # ctu_all_dns_ip_ratio += dns_ip_ratio\n",
    "\n",
    "    '''\n",
    "        ctu_all_dns_ip_ratio is a list of lists. Each sublist corresponds to an endpoint, where the first element is DNS requests\n",
    "        and the second element is the number of unique IP addresses contacted.\n",
    "\n",
    "    '''\n",
    "\n",
    "    dga_all_dns_ip_ratio = []\n",
    "    dga_rel_path =  \"Dataset\\\\dataset_DNSreqs\\\\DGA_DNSreqs\\\\trans_icc_DNSreq_ft.csv\"\n",
    "    dga_all_dns_ip_ratio = load_events_dataset(dga_rel_path, traffic_type=\"DGA\", duration=duration)\n",
    "    dga_all_dns_ip_durations.append(dga_all_dns_ip_ratio)\n"
   ]
  },
  {
   "cell_type": "code",
   "execution_count": 90,
   "id": "4ab7bf25",
   "metadata": {},
   "outputs": [],
   "source": [
    "if 'dga_all_dns_ip_durations' not in locals():\n",
    "  # myVar exists.\n",
    "    dga_all_dns_ip_durations = json.load(open(\"netflow_dataset_t1_to_t5.json\"))"
   ]
  },
  {
   "cell_type": "markdown",
   "id": "03549d5e",
   "metadata": {},
   "source": [
    "# Distribution of CTU (normal traffic)\n",
    "<center><img src=\"Detecting DGA malware using NetFlow.pdf - 2.png\"/></center> </br> <hr> <hr> <hr>\n",
    "<center><img src=\"Detecting DGA malware using NetFlow.pdf - 3.png\"/></center>"
   ]
  },
  {
   "cell_type": "code",
   "execution_count": 100,
   "id": "de47fff2",
   "metadata": {
    "scrolled": true
   },
   "outputs": [
    {
     "name": "stdout",
     "output_type": "stream",
     "text": [
      "At duration = 1.000000, average accuracy on DGAs 10 iterations = 0.569579\n",
      "At duration = 1.500000, average accuracy on DGAs 10 iterations = 0.875274\n",
      "At duration = 2.000000, average accuracy on DGAs 10 iterations = 0.915179\n",
      "At duration = 2.500000, average accuracy on DGAs 10 iterations = 0.901714\n",
      "At duration = 3.000000, average accuracy on DGAs 10 iterations = 0.900115\n",
      "At duration = 3.500000, average accuracy on DGAs 10 iterations = 0.889663\n",
      "At duration = 4.000000, average accuracy on DGAs 10 iterations = 0.889020\n",
      "At duration = 4.500000, average accuracy on DGAs 10 iterations = 0.897810\n",
      "At duration = 5.000000, average accuracy on DGAs 10 iterations = 0.937107\n"
     ]
    }
   ],
   "source": [
    "import math\n",
    "import statistics\n",
    "import numpy as np\n",
    "import matplotlib.pyplot as plt\n",
    "from sklearn.model_selection import train_test_split\n",
    "\n",
    "def anomaly_detector(x, mean, std_dev):\n",
    "    if x <= mean + t1*std_dev:\n",
    "        return 0\n",
    "    elif x < mean + t2*std_dev and x > mean + t1*std_dev:\n",
    "        return (x - (mean + t1*std_dev)) / ((t2 - t1)*std_dev)\n",
    "    elif x >= mean + t2*std_dev:\n",
    "        return 1\n",
    "\n",
    "for duration_indx in range(len(durations)):\n",
    "    \n",
    "    ctu_test_accs = []   \n",
    "    dga_accs = []\n",
    "    for i in range(10):\n",
    "        # X = ctu_all_dns_ip_ratio\n",
    "        X = ctu_all_dns_ip_durations[duration_indx]\n",
    "        y = [0]*len(X)\n",
    "\n",
    "        X_train, X_test, y_train, y_test = train_test_split(X, y, test_size=0.2, random_state=42)\n",
    "\n",
    "        # train (get the mean and std_dev) on 80% of the traffic\n",
    "        ctu_ratios = []\n",
    "        for endpoint in X_train:\n",
    "            x = endpoint[0]/(endpoint[1]+1)\n",
    "            ctu_ratios.append(x)\n",
    "        mean = statistics.mean(ctu_ratios)\n",
    "        std_dev = statistics.stdev(ctu_ratios)\n",
    "        # print(\"Mean = %f\\nStd_dev = %f\" %(mean, std_dev))\n",
    "\n",
    "        # acc = 0\n",
    "        # testing on CTU\n",
    "        # for endpoint in X_test:\n",
    "        #     x = endpoint[0]/(endpoint[1]+1)\n",
    "        #     if anomaly_detector(x, mean, std_dev) <= 0.5:\n",
    "        #         acc += 1\n",
    "\n",
    "        # ctu_test_accs.append(tp/len(X_test))\n",
    "\n",
    "        # testing on DGAs\n",
    "        acc = 0\n",
    "        for endpoint in dga_all_dns_ip_durations[duration_indx]:\n",
    "            x = endpoint[0]/(endpoint[1]+1)\n",
    "            if anomaly_detector(x, mean, std_dev) > 0.5:\n",
    "                acc += 1\n",
    "        \n",
    "        # print(acc/len(dga_all_dns_ip_durations[duration_indx]))\n",
    "        dga_accs.append(acc/len(dga_all_dns_ip_durations[duration_indx]))\n",
    "\n",
    "\n",
    "\n",
    "\n",
    "    print(\"At duration = %f, average accuracy on DGAs 10 iterations = %f\" %(durations[duration_indx],\n",
    "                                                                            sum(dga_accs)/len(dga_accs)))"
   ]
  },
  {
   "cell_type": "code",
   "execution_count": null,
   "id": "3435163e",
   "metadata": {},
   "outputs": [],
   "source": []
  }
 ],
 "metadata": {
  "kernelspec": {
   "display_name": "Python 3 (ipykernel)",
   "language": "python",
   "name": "python3"
  },
  "language_info": {
   "codemirror_mode": {
    "name": "ipython",
    "version": 3
   },
   "file_extension": ".py",
   "mimetype": "text/x-python",
   "name": "python",
   "nbconvert_exporter": "python",
   "pygments_lexer": "ipython3",
   "version": "3.9.12"
  }
 },
 "nbformat": 4,
 "nbformat_minor": 5
}
