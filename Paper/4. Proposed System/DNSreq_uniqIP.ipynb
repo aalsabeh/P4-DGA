{
 "cells": [
  {
   "cell_type": "markdown",
   "id": "36a580fb",
   "metadata": {},
   "source": [
    "# "
   ]
  },
  {
   "cell_type": "code",
   "execution_count": null,
   "id": "d5f95d55",
   "metadata": {},
   "outputs": [
    {
     "name": "stdout",
     "output_type": "stream",
     "text": [
      "Done1,  990\n"
     ]
    }
   ],
   "source": [
    "import csv\n",
    "import os\n",
    "import json\n",
    "import ast\n",
    "from pathlib import Path\n",
    "\n",
    "dataset_dir = Path(\"../5. Evaluation/5.1. Dataset/\")\n",
    "\n",
    "def load_DNSreqs_uniqIPs(row):\n",
    "    features = row[0]\n",
    "    features = \"\\\"\" + features + \"\\\"\"\n",
    "    features = features.replace(\"Decimal('\", \"\")\n",
    "    features = features.replace(\"')\", \"\")\n",
    "    \n",
    "    try:\n",
    "        features = json.loads(features)\n",
    "        features = ast.literal_eval(features)\n",
    "    except:\n",
    "        return -1, -1 ,-1\n",
    "    \n",
    "    nb_uniq_IPs_first = int(features['uniq_pkt_cntctd_all'])\n",
    "            \n",
    "    features = row[-1]\n",
    "    features = \"\\\"\" + features + \"\\\"\"\n",
    "    features = features.replace(\"Decimal('\", \"\")\n",
    "    features = features.replace(\"')\", \"\")\n",
    "    try:\n",
    "        features = json.loads(features)\n",
    "        features = ast.literal_eval(features)\n",
    "    except:\n",
    "         return -1, -1 ,-1\n",
    "\n",
    "    nb_uniq_IPs_last = int(features['uniq_pkt_cntctd_all'])\n",
    "    nb_dnsreqs = len(row[2:])\n",
    "    \n",
    "    return nb_uniq_IPs_first, nb_uniq_IPs_last, nb_dnsreqs\n",
    "\n",
    "\n",
    "\n",
    "# The files DNSreq_uniqIPs/data_no_infection_dns-XX_DNSreq_ft.csv contains the DNS Requests and unique IP addresses \n",
    "# contacted (similar to the typical files, but instead of NXDs, I am doing the DNS requests.\n",
    "# but before, I will load all hosts that have at least 1 NXD, so that my data is focused on hosts that show at least 1 NXD \n",
    "ctu_hosts_with_1NXD = []\n",
    "for i in range(42, 55): \n",
    "    ctu_fname = \"data_no_infection_dns-\" + str(i) + \"_4.csv\"\n",
    "    ctu_rel_path = dataset_dir / \"normal_ctu\" / ctu_fname\n",
    "    with open(ctu_rel_path, newline='') as csvfile:\n",
    "        reader = csv.reader(csvfile, delimiter=',')\n",
    "        for row in reader:\n",
    "            if len(row) > 3: \n",
    "                ctu_hosts_with_1NXD.append(row[0] + row[1])\n",
    "                \n",
    "print(\"Done1, \", len(ctu_hosts_with_1NXD))\n",
    "               \n",
    "# Now, parsing DNSreq_uniqIPs/data_no_infection_dns-XX_DNSreq_ft.csv\n",
    "ctu_ls = []\n",
    "for i in range(42, 55): \n",
    "    ctu_fname = \"data_no_infection_dns-\" + str(i) + \"_DNSreq_ft.csv\"\n",
    "    ctu_rel_path = dataset_dir / \"dataset_DNSreqs\" / \"CTU_DNSreqs\" / ctu_fname\n",
    "    with open(ctu_rel_path, newline='') as csvfile:\n",
    "        reader = csv.reader(csvfile, delimiter=',')\n",
    "        for row in reader:\n",
    "            if len(row) < 3:\n",
    "                continue\n",
    "            if str(row[0] + row[1]) in ctu_hosts_with_1NXD:\n",
    "                nb_uniq_IPs_first, nb_uniq_IPs_last, nb_dnsreqs = load_DNSreqs_uniqIPs(row[2:])\n",
    "                if nb_uniq_IPs_first == -1:\n",
    "                    continue\n",
    "                ctu_ls.append([nb_uniq_IPs_first, nb_uniq_IPs_last, nb_dnsreqs])\n",
    "\n",
    "print(\"Done2\", len(ctu_ls))\n",
    "\n",
    "\n",
    "# Now, parsing DNSreq_uniqIPs/data_no_infection_dns-XX_DNSreq_ft.csv\n",
    "dga_ls = []\n",
    "dga_dnsreq_fname = dataset_dir / \"dataset_DNSreqs\" / \"DGA_DNSreqs\" / \"trans_icc_DNSreq_ft.csv\"\n",
    "with open(dga_dnsreq_fname, newline='') as csvfile:\n",
    "    reader = csv.reader(csvfile, delimiter=',')\n",
    "    for row in reader:\n",
    "        nb_uniq_IPs_first, nb_uniq_IPs_last, nb_dnsreqs = load_DNSreqs_uniqIPs(row[3:])\n",
    "        if nb_uniq_IPs_first == -1:\n",
    "            continue\n",
    "        dga_ls.append([nb_uniq_IPs_first, nb_uniq_IPs_last, nb_dnsreqs])\n",
    "        \n",
    "print(\"Done3\", len(dga_ls))"
   ]
  },
  {
   "cell_type": "code",
   "execution_count": 15,
   "id": "090ef8f8",
   "metadata": {
    "scrolled": true
   },
   "outputs": [
    {
     "data": {
      "image/png": "[encoded data removed]",
      "text/plain": [
       "<Figure size 432x288 with 1 Axes>"
      ]
     },
     "metadata": {
      "needs_background": "light"
     },
     "output_type": "display_data"
    }
   ],
   "source": [
    "import matplotlib.pyplot as plt\n",
    "import matplotlib\n",
    "import numpy as np\n",
    "\n",
    "def plot_CDF(xlabel, ls1, xlim_val=None, label1=None, ls2=None, label2=None, outputfig=None):\n",
    "    fig = plt.figure(figsize=(6,4))\n",
    "    matplotlib.rcParams.update({'font.size': 12})\n",
    "    ax2 = fig.add_subplot()\n",
    " \n",
    "    ls1_sorted = np.sort(ls1)\n",
    "    ls1_p = 1. * np.arange(len(ls1)) / (len(ls1) - 1)\n",
    "    ax2.plot(ls1_sorted, ls1_p, color='k', label=label1)\n",
    "    # ls1_mean = ls1_sorted.mean()\n",
    "    # ls1_std = ls1_sorted.std()\n",
    " \n",
    "    if not ls2 == None:\n",
    "        ls2_sorted = np.sort(ls2)\n",
    "        ls2_p = 1. * np.arange(len(ls2)) / (len(ls2) - 1)\n",
    "        ax2.plot(ls2_sorted, ls2_p, color='k', linestyle='dotted', label=label2)\n",
    "        # ls2_mean = ls2_sorted.mean()\n",
    "        # ls2_std = ls2_sorted.std()\n",
    " \n",
    "    if not label1 == None:\n",
    " \n",
    "        ax2.legend(loc='center right')\n",
    " \n",
    "    ax2.set_xlabel(xlabel, fontsize=13)\n",
    "    ax2.set_ylabel('$CDF$', fontsize=13)\n",
    "    ax2.grid(linestyle='dotted')\n",
    "    if xlim_val != None:\n",
    "        plt.xlim([-20, xlim_val])\n",
    " \n",
    "    if outputfig != None:\n",
    "        plt.savefig(outputfig)\n",
    " \n",
    "    # plt.show()\n",
    "\n",
    "ctu_ls2 = []\n",
    "dga_ls2 = []\n",
    "for e in ctu_ls:\n",
    "    nb_uniq_IPs_first = e[0]\n",
    "    nb_uniq_IPs_last = e[1]\n",
    "    nb_dnsreqs = e[2]\n",
    "    \n",
    "    ctu_ls2.append(nb_dnsreqs/(nb_uniq_IPs_last - nb_uniq_IPs_first + 1))\n",
    "    # print(nb_dnsreqs/(nb_uniq_IPs_last - nb_uniq_IPs_first + 1))\n",
    "    \n",
    "# print(\"--------------------------------------------------------------------\")   \n",
    "\n",
    "for e in dga_ls:\n",
    "    nb_uniq_IPs_first = e[0]\n",
    "    nb_uniq_IPs_last = e[1]\n",
    "    nb_dnsreqs = e[2]\n",
    "    dga_ls2.append(nb_dnsreqs/(nb_uniq_IPs_last - nb_uniq_IPs_first + 1))\n",
    "    \n",
    "plot_CDF(\"Ratio of DNS requests over unique IP addresses\", dga_ls2, xlim_val=300, label1=\"DGAs\", ls2=ctu_ls2, label2=\"Normal\", outputfig=\"DNSreq_IP_ratio.pdf\")"
   ]
  },
  {
   "cell_type": "code",
   "execution_count": null,
   "id": "43d0eb9b",
   "metadata": {},
   "outputs": [],
   "source": []
  },
  {
   "cell_type": "code",
   "execution_count": null,
   "id": "7c008173",
   "metadata": {},
   "outputs": [],
   "source": []
  }
 ],
 "metadata": {
  "kernelspec": {
   "display_name": "Python 3 (ipykernel)",
   "language": "python",
   "name": "python3"
  },
  "language_info": {
   "codemirror_mode": {
    "name": "ipython",
    "version": 3
   },
   "file_extension": ".py",
   "mimetype": "text/x-python",
   "name": "python",
   "nbconvert_exporter": "python",
   "pygments_lexer": "ipython3",
   "version": "3.9.13"
  }
 },
 "nbformat": 4,
 "nbformat_minor": 5
}
