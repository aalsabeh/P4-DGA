{
 "cells": [
  {
   "cell_type": "markdown",
   "id": "d95c983b",
   "metadata": {},
   "source": [
    "# Inter-arrival times between NXDs "
   ]
  },
  {
   "cell_type": "code",
   "execution_count": 2,
   "id": "116074e8",
   "metadata": {
    "scrolled": true
   },
   "outputs": [],
   "source": [
    "import csv\n",
    "import json\n",
    "import ast\n",
    "import statistics\n",
    "import matplotlib.pyplot as plt\n",
    "import pandas as pd\n",
    "from pathlib import Path\n",
    "\n",
    "X = []\n",
    "y = []\n",
    "c = 1\n",
    "family_to_label = {}\n",
    "label_to_family = {}\n",
    "indx = 1\n",
    "\n",
    "                \n",
    "# load valid TLDs\n",
    "dataset_dir = Path(\"../5. Evaluation/5.1. Dataset/\")\n",
    "valid_tlds = []\n",
    "tld_fname = dataset_dir / \"tlds-alpha-by-domain.txt\"\n",
    "with open(tld_fname) as f_r:\n",
    "    i = 0\n",
    "    for l in f_r:\n",
    "        if i == 0:\n",
    "            i = 1\n",
    "            continue\n",
    "        valid_tlds.append(l.lower().strip())\n",
    "        \n",
    "tld_to_int = {}\n",
    "i = 1\n",
    "for tld in valid_tlds:\n",
    "    if tld not in tld_to_int:\n",
    "        tld_to_int[tld] = i\n",
    "        i += 1\n",
    "\n",
    "def qname_features(qname):\n",
    "    dml = len(qname) - qname.count(\".\") # domain name length\n",
    "    sub_domains = qname.split(\".\") \n",
    "    nb_sub_d = len(sub_domains) - 1 # number of subdomains\n",
    "    tld = sub_domains[len(sub_domains)-1] # is valid tld\n",
    "\n",
    "    is_valid_tld = 0 # is valid tld\n",
    "    tld_indx = 0 # tld index (if valid)\n",
    "    \n",
    "    if tld in valid_tlds:\n",
    "        is_valid_tld = 1\n",
    "        tld_indx = tld_to_int[tld]\n",
    "    else:\n",
    "        is_valid_tld = 0\n",
    "\n",
    "    has_single_sub_d = 0 # has a single subdomain\n",
    "    for indx in range(len(sub_domains)-1):\n",
    "        if len(sub_domains[indx]) == 1:\n",
    "            has_single_sub_d = 1\n",
    "            break\n",
    "            \n",
    "    nb_underscores = qname.count(\"_\") # number of underscores\n",
    "\n",
    "\n",
    "    bigram_score = bigram_p4.get_ngram(qname, combined_bigram_scores)                   \n",
    "    trigram_score = trigram_p4.get_ngram(qname, combined_trigram_scores)\n",
    "    \n",
    "\n",
    "    returned_fts = {}\n",
    "    returned_fts['bigram_score'] = bigram_score\n",
    "    returned_fts['trigram_score'] = trigram_score\n",
    "    returned_fts['dml'] = dml\n",
    "    returned_fts['nb_sub_d'] = nb_sub_d\n",
    "    returned_fts['is_valid_tld'] = is_valid_tld\n",
    "    returned_fts['has_single_sub_d'] = has_single_sub_d\n",
    "    returned_fts['tld'] = tld_indx\n",
    "\n",
    "    return returned_fts\n",
    "\n",
    "\n",
    "def features_dict_to_ls (features: str) -> list:\n",
    "    '''\n",
    "        Arguments:\n",
    "            features: string of features  {'unique_ip_reqs':0, 'dns_reqs':0, ...}\n",
    "        Returns:\n",
    "            a list of the feauters' values (context-aware and context-less)\n",
    "    '''\n",
    "    global context_aware_fts\n",
    "    global context_less_fts\n",
    "    \n",
    "    features = features.replace(\"Decimal('\", \"\")\n",
    "    features = features.replace(\"')\", \"\")\n",
    "    \n",
    "    try:\n",
    "        features = json.loads(features)\n",
    "        features = ast.literal_eval(features)\n",
    "    except:\n",
    "        return [-1]\n",
    "    \n",
    "    if features['nxd_qname'] == \"\":\n",
    "        return [-1]\n",
    "    \n",
    "    qname = features['nxd_qname']\n",
    "    qname_ft = qname_features(qname)\n",
    "    \n",
    "    ls = []\n",
    "    \n",
    "    # context-aware features\n",
    "    dns_reqs = 1\n",
    "    ip_reqs = 1\n",
    "    for ft in context_aware_fts:\n",
    "        try:    \n",
    "            ls.append(features[ft])\n",
    "        except:\n",
    "            continue\n",
    "        \n",
    "    # context-less features\n",
    "    for ft in context_less_fts:\n",
    "        ls.append(qname_ft[ft])\n",
    "\n",
    "    return [ls, features]\n",
    "    \n",
    "\n",
    "def load_events_dataset(csvfile_name: str, traffic_type: str) -> (list, list):\n",
    "    all_nxd_iarrivals = {}\n",
    "    with open(csvfile_name, newline='') as csvfile:\n",
    "        reader = csv.reader(csvfile, delimiter=',')\n",
    "        row_indx = 0\n",
    "        for row in reader:\n",
    "            row_indx += 1\n",
    "\n",
    "            if row[2] == '8.8.8.8':\n",
    "                continue\n",
    "\n",
    "            if traffic_type == \"CTU\": # benign\n",
    "                start_col = 3\n",
    "                family = 'benign'\n",
    "                if len(row) <= 3:\n",
    "                    continue\n",
    "            elif traffic_type == \"DGA\":\n",
    "                start_col = 4\n",
    "                family = row[0]\n",
    "                \n",
    "                if len(row) <= 4:\n",
    "                    continue    \n",
    "                    \n",
    "            if family not in all_nxd_iarrivals:\n",
    "                all_nxd_iarrivals[family] = []\n",
    "                \n",
    "            curr_nxd_iarrivals = []\n",
    "            for col_indx in range(start_col, len(row)):\n",
    "                curr_col = row[col_indx]\n",
    "                features = \"\\\"\" + curr_col + \"\\\"\"\n",
    "                features = features.replace(\"Decimal('\", \"\")\n",
    "                features = features.replace(\"')\", \"\")\n",
    "                try:\n",
    "                    features = json.loads(features)\n",
    "                    features = ast.literal_eval(features)\n",
    "                    nxd_iarrival = features['nxd_iarrival']\n",
    "                    curr_nxd_iarrivals.append(nxd_iarrival)\n",
    "                except:\n",
    "                    print(\"\\t\\t\", row_indx, col_indx, csvfile_name )\n",
    "                \n",
    "            avg_nxd_iarrivals = sum(curr_nxd_iarrivals) / len(curr_nxd_iarrivals)\n",
    "            all_nxd_iarrivals[family].append(avg_nxd_iarrivals)\n",
    "\n",
    "    return all_nxd_iarrivals\n",
    "\n",
    "\n"
   ]
  },
  {
   "cell_type": "markdown",
   "id": "7c3e0acb",
   "metadata": {},
   "source": [
    "# CTU traffic"
   ]
  },
  {
   "cell_type": "code",
   "execution_count": 4,
   "id": "8bd2e797",
   "metadata": {
    "scrolled": true
   },
   "outputs": [
    {
     "name": "stdout",
     "output_type": "stream",
     "text": [
      "../5. Evaluation/5.1. Dataset/normal_ctu/data_no_infection_dns-42_4.csv\n",
      "\t 63.02514091111111 559.71004531916\n",
      "../5. Evaluation/5.1. Dataset/normal_ctu/data_no_infection_dns-43_4.csv\n",
      "\t 251.26819908333326 593.4201246311102\n",
      "../5. Evaluation/5.1. Dataset/normal_ctu/data_no_infection_dns-44_4.csv\n",
      "\t 505.1375414952381 9720.91111989408\n",
      "\t\t 171 3 ../5. Evaluation/5.1. Dataset/normal_ctu/data_no_infection_dns-45_4.csv\n",
      "\t\t 171 4 ../5. Evaluation/5.1. Dataset/normal_ctu/data_no_infection_dns-45_4.csv\n",
      "\t\t 171 5 ../5. Evaluation/5.1. Dataset/normal_ctu/data_no_infection_dns-45_4.csv\n",
      "\t\t 171 6 ../5. Evaluation/5.1. Dataset/normal_ctu/data_no_infection_dns-45_4.csv\n",
      "\t\t 171 7 ../5. Evaluation/5.1. Dataset/normal_ctu/data_no_infection_dns-45_4.csv\n",
      "\t\t 171 8 ../5. Evaluation/5.1. Dataset/normal_ctu/data_no_infection_dns-45_4.csv\n",
      "\t\t 171 9 ../5. Evaluation/5.1. Dataset/normal_ctu/data_no_infection_dns-45_4.csv\n",
      "\t\t 171 10 ../5. Evaluation/5.1. Dataset/normal_ctu/data_no_infection_dns-45_4.csv\n",
      "\t\t 171 11 ../5. Evaluation/5.1. Dataset/normal_ctu/data_no_infection_dns-45_4.csv\n",
      "\t\t 171 12 ../5. Evaluation/5.1. Dataset/normal_ctu/data_no_infection_dns-45_4.csv\n",
      "\t\t 171 13 ../5. Evaluation/5.1. Dataset/normal_ctu/data_no_infection_dns-45_4.csv\n",
      "\t\t 171 14 ../5. Evaluation/5.1. Dataset/normal_ctu/data_no_infection_dns-45_4.csv\n",
      "\t\t 171 15 ../5. Evaluation/5.1. Dataset/normal_ctu/data_no_infection_dns-45_4.csv\n",
      "\t\t 171 16 ../5. Evaluation/5.1. Dataset/normal_ctu/data_no_infection_dns-45_4.csv\n",
      "\t\t 171 17 ../5. Evaluation/5.1. Dataset/normal_ctu/data_no_infection_dns-45_4.csv\n",
      "\t\t 171 18 ../5. Evaluation/5.1. Dataset/normal_ctu/data_no_infection_dns-45_4.csv\n",
      "\t\t 171 19 ../5. Evaluation/5.1. Dataset/normal_ctu/data_no_infection_dns-45_4.csv\n",
      "\t\t 171 20 ../5. Evaluation/5.1. Dataset/normal_ctu/data_no_infection_dns-45_4.csv\n",
      "../5. Evaluation/5.1. Dataset/normal_ctu/data_no_infection_dns-45_4.csv\n",
      "\t 254.40898097522518 436.68551003465933\n",
      "../5. Evaluation/5.1. Dataset/normal_ctu/data_no_infection_dns-46_4.csv\n",
      "\t 1.0430370714285715 57.839669928775365\n",
      "../5. Evaluation/5.1. Dataset/normal_ctu/data_no_infection_dns-47_4.csv\n",
      "\t 101.14426156269349 304.3070031037881\n",
      "../5. Evaluation/5.1. Dataset/normal_ctu/data_no_infection_dns-48_4.csv\n",
      "\t 6.926107046223958 40.59033387884556\n",
      "../5. Evaluation/5.1. Dataset/normal_ctu/data_no_infection_dns-49_4.csv\n",
      "\t 95.40520021739131 267.9548769353463\n",
      "../5. Evaluation/5.1. Dataset/normal_ctu/data_no_infection_dns-50_4.csv\n",
      "\t 306.51651893181827 592.2123690058819\n",
      "../5. Evaluation/5.1. Dataset/normal_ctu/data_no_infection_dns-51_4.csv\n",
      "\t 180.6690001875 457.94419335835084\n",
      "../5. Evaluation/5.1. Dataset/normal_ctu/data_no_infection_dns-52_4.csv\n",
      "\t 3.74283813888889 26.13169453606223\n",
      "../5. Evaluation/5.1. Dataset/normal_ctu/data_no_infection_dns-53_4.csv\n",
      "\t 133.69722674999997 208.40969620117502\n",
      "../5. Evaluation/5.1. Dataset/normal_ctu/data_no_infection_dns-54_4.csv\n",
      "\t 173.0647158236111 1757.1006303824336\n"
     ]
    }
   ],
   "source": [
    "X = [] \n",
    "y1 = []\n",
    "y2 = []\n",
    "data_ctu = {}\n",
    "for i in range(42, 55): # 42, 55 !!! \n",
    "    ctu_fname = \"data_no_infection_dns-\" + str(i) + \"_4.csv\"\n",
    "    ctu_rel_path = dataset_dir / \"normal_ctu\" / ctu_fname\n",
    "    all_nxd_iarrivals = load_events_dataset(ctu_rel_path, traffic_type=\"CTU\")\n",
    "    all_nxd_iarrivals = all_nxd_iarrivals['benign']\n",
    "    x = \"       CTU-\" + str(i)\n",
    "    median = statistics.median(all_nxd_iarrivals)\n",
    "    mean = statistics.mean(all_nxd_iarrivals)\n",
    "    data_ctu[x] = {\"Mean\": mean, \"Median\": median}\n",
    "    \n",
    "    print(ctu_rel_path)\n",
    "    print(\"\\t\", statistics.median(all_nxd_iarrivals), statistics.mean(all_nxd_iarrivals))\n",
    "    "
   ]
  },
  {
   "cell_type": "markdown",
   "id": "3d9c77f0",
   "metadata": {},
   "source": [
    "# DGA traffic"
   ]
  },
  {
   "cell_type": "code",
   "execution_count": 5,
   "id": "deb3ab3b",
   "metadata": {
    "scrolled": true
   },
   "outputs": [
    {
     "name": "stdout",
     "output_type": "stream",
     "text": [
      "cutwail 113.34036163131313 113.34036163131313\n",
      "ursnif 113.11881199034462 113.11881199034462\n",
      "xblocker 1.8114170217536816 1.8114170217536816\n",
      "qadars 0.6444583581126074 0.6444583581126074\n",
      "diamondfox 9.07626073170045 9.07626073170045\n",
      "zloader 9.790345050818827 9.790345050818827\n",
      "locky 37.13665226269157 37.13665226269157\n",
      "suppobox 1.635067476868911 1.635067476868911\n",
      "pushdo 5.397027911257178 5.397027911257178\n",
      "necurs 0.7899279698233881 0.7899279698233881\n",
      "nymaim 1.7263565260293745 1.7263565260293745\n",
      "pykspa 4.090287711843311 4.090287711843311\n",
      "simda 0.6309943973322033 0.6309943973322033\n",
      "tinba 6.77586059274016 6.77586059274016\n",
      "dircrypt 0.9171352820439344 0.9171352820439344\n",
      "qsnatch 153.83020248611112 153.83020248611112\n",
      "gozi 71.70075272727273 71.70075272727273\n",
      "murofet 1.7982862065548781 1.7982862065548781\n",
      "phorpiex 5.840598477787136 5.840598477787136\n",
      "gameover 2.28587046582343 2.28587046582343\n",
      "tofsee 41.58857780535715 41.58857780535715\n",
      "murofetweekly 3.921196497802899 3.921196497802899\n",
      "mydoom 3.1703182544404394 3.1703182544404394\n",
      "pykspa2 4.153189209616597 4.153189209616597\n",
      "pykspa2s 4.219860550773532 4.219860550773532\n",
      "cryptolocker 1.8910725572210991 1.8910725572210991\n",
      "banjori 0.09121151552287597 0.09121151552287597\n",
      "bazarloader 29.55619672724851 29.55619672724851\n",
      "chinad 1.2629798653522077 1.2629798653522077\n",
      "corebot 0.7155787397035841 0.7155787397035841\n",
      "dmsniff 22.68415746666666 22.68415746666666\n",
      "enviserv 7.6372006493506515 7.6372006493506515\n",
      "feodo 0.46797218533817564 0.46797218533817564\n",
      "fobber 2.5575897204968943 2.5575897204968943\n",
      "madmax 60.23219875 60.23219875\n",
      "makloader 0.14031087109375 0.14031087109375\n",
      "matsnu 69.87037956944444 69.87037956944444\n",
      "nymaim2 1.571547363783161 1.571547363783161\n",
      "padcrypt 0.06374969857357357 0.06374969857357357\n",
      "qhost 22.3508761904762 22.3508761904762\n",
      "ramdo 50.543803 50.543803\n",
      "ramnit 1.8672967422592015 1.8672967422592015\n",
      "ranbyus 1.5307375687012985 1.5307375687012985\n",
      "sphinx 10.252300100675678 10.252300100675678\n",
      "tinynuke 15.55739173737374 15.55739173737374\n",
      "vidrotid 3.3591622429378534 3.3591622429378534\n",
      "bamital 0.1095105 0.1095105\n",
      "bedep 0.11692839230769231 0.11692839230769231\n",
      "beebone 0.1426415762876582 0.1426415762876582\n",
      "downloader 15.150844953124999 15.150844953124999\n",
      "dyre 0.0 0.0\n",
      "emotet 2.316726 2.316726\n",
      "hesperbot 0.0 0.0\n",
      "pandabanker 0.0 0.0\n",
      "shifu 0.0 0.0\n",
      "tsifiri 2.543470952380953 2.543470952380953\n",
      "wd 0.0 0.0\n"
     ]
    }
   ],
   "source": [
    "dga_rel_path =  dataset_dir / \"DGA\" / \"trans_icc_newft.csv\"\n",
    "all_nxd_iarrivals = load_events_dataset(dga_rel_path, traffic_type=\"DGA\")\n",
    "data_dgas = {}\n",
    "for family, nxd_iarrivals in all_nxd_iarrivals.items():\n",
    "    mean = sum(nxd_iarrivals)/len(nxd_iarrivals)\n",
    "    median = sum(nxd_iarrivals)/len(nxd_iarrivals)\n",
    "    data_dgas[family] = {\"Mean\": mean, \"Median\": median}\n",
    "    print(family, mean, median)\n",
    "    "
   ]
  },
  {
   "cell_type": "markdown",
   "id": "bce9b9dc",
   "metadata": {},
   "source": [
    "# Plotting CTU alone"
   ]
  },
  {
   "cell_type": "code",
   "execution_count": 7,
   "id": "20e1b47c",
   "metadata": {
    "scrolled": true
   },
   "outputs": [
    {
     "data": {
      "text/plain": [
       "<Figure size 600x400 with 0 Axes>"
      ]
     },
     "metadata": {},
     "output_type": "display_data"
    },
    {
     "data": {
      "image/png": "[encoded data removed]",
      "text/plain": [
       "<Figure size 600x400 with 1 Axes>"
      ]
     },
     "metadata": {},
     "output_type": "display_data"
    }
   ],
   "source": [
    "from matplotlib.pyplot import figure\n",
    "\n",
    "\n",
    "fig = plt.figure(figsize=(6, 4))\n",
    "\n",
    "df = pd.DataFrame(data_ctu)\n",
    "df = df.T\n",
    "df ['sum'] = df.sum(axis=1)\n",
    "df.sort_values('Mean', ascending=False)[['Mean']].plot.bar(color=['black', 'tab:grey'], figsize=(6, 4), legend=False)\n",
    "\n",
    "# plt.ylim([0, 2000])\n",
    "plt.yscale(\"log\")\n",
    "\n",
    "plt.xlabel(\"CTU-13 normal network families\")\n",
    "plt.ylabel(\"Average inter-arrival time of NXDs (s)\")\n",
    "plt.title(\"\")\n",
    "plt.savefig('CTU_iarrivals2.pdf', bbox_inches = 'tight')\n",
    "plt.show()"
   ]
  },
  {
   "cell_type": "markdown",
   "id": "586d42bd",
   "metadata": {},
   "source": [
    "# Plotting DGAs alone"
   ]
  },
  {
   "cell_type": "code",
   "execution_count": 8,
   "id": "191d136e",
   "metadata": {
    "scrolled": true
   },
   "outputs": [
    {
     "name": "stdout",
     "output_type": "stream",
     "text": [
      "{'dyre': 0.0, 'hesperbot': 0.0, 'pandabanker': 0.0, 'shifu': 0.0, 'wd': 0.0, 'padcrypt': 0.06374969857357357, 'banjori': 0.09121151552287597, 'bamital': 0.1095105, 'bedep': 0.11692839230769231, 'makloader': 0.14031087109375, 'beebone': 0.1426415762876582, 'feodo': 0.46797218533817564, 'simda': 0.6309943973322033, 'qadars': 0.6444583581126074, 'corebot': 0.7155787397035841, 'necurs': 0.7899279698233881, 'dircrypt': 0.9171352820439344, 'chinad': 1.2629798653522077, 'ranbyus': 1.5307375687012985, 'nymaim2': 1.571547363783161, 'suppobox': 1.635067476868911, 'nymaim': 1.7263565260293745, 'murofet': 1.7982862065548781, 'xblocker': 1.8114170217536816, 'ramnit': 1.8672967422592015, 'cryptolocker': 1.8910725572210991, 'gameover': 2.28587046582343, 'emotet': 2.316726, 'tsifiri': 2.543470952380953, 'fobber': 2.5575897204968943, 'mydoom': 3.1703182544404394, 'vidrotid': 3.3591622429378534, 'murofetweekly': 3.921196497802899, 'pykspa': 4.090287711843311, 'pykspa2': 4.153189209616597, 'pykspa2s': 4.219860550773532, 'pushdo': 5.397027911257178, 'phorpiex': 5.840598477787136, 'tinba': 6.77586059274016, 'enviserv': 7.6372006493506515, 'diamondfox': 9.07626073170045, 'zloader': 9.790345050818827, 'sphinx': 10.252300100675678, 'downloader': 15.150844953124999, 'tinynuke': 15.55739173737374, 'qhost': 22.3508761904762, 'dmsniff': 22.68415746666666, 'bazarloader': 29.55619672724851, 'locky': 37.13665226269157, 'tofsee': 41.58857780535715, 'ramdo': 50.543803, 'madmax': 60.23219875, 'matsnu': 69.87037956944444, 'gozi': 71.70075272727273, 'ursnif': 113.11881199034462, 'cutwail': 113.34036163131313, 'qsnatch': 153.83020248611112}\n",
      "['padcrypt', 'banjori', 'bamital', 'bedep', 'makloader', 'beebone', 'feodo', 'simda', 'qadars', 'corebot', 'necurs', 'dircrypt', 'chinad', 'ranbyus', 'nymaim2', 'suppobox', 'nymaim', 'murofet', 'xblocker', 'ramnit', 'cryptolocker', 'gameover', 'emotet', 'tsifiri', 'fobber', 'mydoom', 'vidrotid', 'murofetweekly', 'pykspa']\n"
     ]
    },
    {
     "data": {
      "text/plain": [
       "<Figure size 800x400 with 0 Axes>"
      ]
     },
     "metadata": {},
     "output_type": "display_data"
    },
    {
     "data": {
      "image/png": "[encoded data removed]",
      "text/plain": [
       "<Figure size 800x400 with 1 Axes>"
      ]
     },
     "metadata": {},
     "output_type": "display_data"
    }
   ],
   "source": [
    "# lowest N_DGAs\n",
    "N = 30\n",
    "all_means = {}\n",
    "for family, res in data_dgas.items():\n",
    "    all_means[family] = res['Mean']\n",
    "  \n",
    "\n",
    "all_means_sorted = {k: v for k, v in sorted(all_means.items(), key=lambda item: item[1])}\n",
    "lowest_N = []\n",
    "i = 1\n",
    "for family, v in all_means_sorted.items():\n",
    "    if v == 0:\n",
    "        continue\n",
    "    lowest_N.append(family)\n",
    "    i += 1\n",
    "    if i == N:\n",
    "        break\n",
    "print(all_means_sorted)\n",
    "print(lowest_N)\n",
    "\n",
    "data_dgas_N = {}\n",
    "for e, v in data_dgas.items():\n",
    "    if e in lowest_N:\n",
    "        data_dgas_N[e] = v\n",
    "\n",
    "fig = plt.figure(figsize=(8, 4))\n",
    "\n",
    "df = pd.DataFrame(data_dgas_N)\n",
    "df = df.T\n",
    "df ['sum'] = df.sum(axis=1)\n",
    "df.sort_values('Mean', ascending=False)[['Mean']].plot.bar(color=['black', 'tab:grey'], figsize=(8, 4), legend=False)\n",
    "# plt.ylim([0, 2000])\n",
    "plt.yscale(\"log\")\n",
    "\n",
    "plt.xlabel(\"CTU-13 normal network families\")\n",
    "plt.ylabel(\"Average inter-arrival time of NXDs (s)\")\n",
    "plt.title(\"\")\n",
    "plt.savefig('DGA_iarrivals2.pdf', bbox_inches='tight' )\n",
    "plt.show()"
   ]
  }
 ],
 "metadata": {
  "kernelspec": {
   "display_name": "Python 3 (ipykernel)",
   "language": "python",
   "name": "python3"
  },
  "language_info": {
   "codemirror_mode": {
    "name": "ipython",
    "version": 3
   },
   "file_extension": ".py",
   "mimetype": "text/x-python",
   "name": "python",
   "nbconvert_exporter": "python",
   "pygments_lexer": "ipython3",
   "version": "3.9.13"
  }
 },
 "nbformat": 4,
 "nbformat_minor": 5
}
